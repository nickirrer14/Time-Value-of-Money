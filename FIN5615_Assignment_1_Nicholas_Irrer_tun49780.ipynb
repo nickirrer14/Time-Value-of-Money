{
 "cells": [
  {
   "cell_type": "markdown",
   "metadata": {
    "deletable": false,
    "editable": false
   },
   "source": [
    "<h2>FIN5615 Project #1\n",
    "    <p class=\"text-primary\">Time Value of Money</p>\n",
    "</h2>\n",
    "\n",
    "<div class = \"alert alert-block alert-danger\">\n",
    "    <b>Due Date</b>: October 5th, 2020, 11:59PM EST\n",
    "</div>  "
   ]
  },
  {
   "cell_type": "markdown",
   "metadata": {
    "deletable": false,
    "editable": false
   },
   "source": [
    "<div class = \"panel panel-success\">\n",
    "    <div class = \"panel-heading\"> \n",
    "    <span style=\"color:black\"><b>Project Introduction</b>\n",
    "    </div>\n",
    "    <div class = \"panel-body\"> \n",
    "    In this project we will examine the time value of money and the mechanics of discounting future cashflows to present day. We will then attempt to apply these concepts to valuing bonds and equities.\n",
    "    </div>\n",
    "</div>\n",
    "\n",
    "<div class = \"panel panel-info\">\n",
    "    <div class = \"panel-heading\"> \n",
    "    <span style=\"color:black\"><b>Instructions</b>\n",
    "    </div>\n",
    "    <div class = \"panel-body\"> \n",
    "    Please code you solutions directly in this Notebook under each task in the cells provided below. Include all code used to produce your results, and support your answers with textual explanations if neccessary. You may feel free to add additional Code and/or Markdown cells as needed. Code must be written using <b>Python 3</b>.\n",
    "    <br><br>Please order the cells in your Notebook in the order in which they are intended to run! It is expected that your Notebook is able to run in sequence from start to finish without any errors (before submitting check by: <code>Kernel > Restart & Run All</code>).\n",
    "    <br><br>Once ready, please submit your assignment as an <b>.ipynb file</b> (<code>File > Download as > Notebook</code>). You must name your files in the following format: <b><code>FIN5615_Assignmnet_1_Richard_Lee_tuc12345.ipynb</code></b>.\n",
    "    </div>\n",
    "</div>\n",
    "\n",
    "---\n",
    "<div class = \"alert alert-block alert-warning\">\n",
    "    <b>Note</b>: Import all libraries that you plan on using in the code block below.\n",
    "</div>"
   ]
  },
  {
   "cell_type": "code",
   "execution_count": 1,
   "metadata": {},
   "outputs": [],
   "source": [
    "#Nick Irrer\n",
    "import numpy as np"
   ]
  },
  {
   "cell_type": "markdown",
   "metadata": {
    "deletable": false,
    "editable": false
   },
   "source": [
    "<div class = \"panel panel-primary\">\n",
    "    <div class = \"panel-heading\"> \n",
    "    <span style=\"color:white\"><b>Task 1</b>\n",
    "    </div>\n",
    "    <div class = \"panel-body\"> \n",
    "    Time value of money is the concept that receiving a cashflow today is worth more than receiving the same amount at a future date. We can compare cashflows of differing time values by calculating and comparing their present values.\n",
    "    <br><br>Recall that the formula to calculate the present value of a cashflow <i>CF</i> at time <i>t</i> assuming annual compounding at rate <i>r</i> is: \n",
    "    <br><br>\n",
    "    $$PV = \\frac{CF}{(1 + r)^t}$$\n",
    "    <br>Compute the present value of a cashflow based on the inputs below.\n",
    "    <p style=\"text-align:right;\">[5pts]</p>\n",
    "    </div>\n",
    "</div>"
   ]
  },
  {
   "cell_type": "code",
   "execution_count": 2,
   "metadata": {},
   "outputs": [
    {
     "name": "stdout",
     "output_type": "stream",
     "text": [
      "90.70294784580499\n"
     ]
    }
   ],
   "source": [
    "CF = 100.\n",
    "rate = .05\n",
    "t = 2\n",
    "\n",
    "#_#Your code here\n",
    "\n",
    "present_value=CF/(1+rate)**t\n",
    "print(present_value)\n",
    "\n",
    "#_#Computing the present value with given cashflows, rate, and time"
   ]
  },
  {
   "cell_type": "markdown",
   "metadata": {
    "deletable": false,
    "editable": false
   },
   "source": [
    "<div class = \"panel panel-primary\">\n",
    "    <div class = \"panel-heading\"> \n",
    "    <span style=\"color:white\"><b>Task 2</b>\n",
    "    </div>\n",
    "    <div class = \"panel-body\"> \n",
    "    The present value formula can be modified to account for periodic compounding at some m-thly frequency:\n",
    "    <br><br>\n",
    "    $$PV = \\frac{CF}{\\left(1 + \\frac{r}{m}\\right)^{mt}}$$\n",
    "    <br>Assuming the same inputs as the previous task, now include a new variable *m* with a value of 12 representing monthly compounding. Calculate the cashflow's present value given monthly compounding.\n",
    "    <p style=\"text-align:right;\">[10pts]</p>\n",
    "    </div>\n",
    "</div>"
   ]
  },
  {
   "cell_type": "code",
   "execution_count": 3,
   "metadata": {},
   "outputs": [
    {
     "name": "stdout",
     "output_type": "stream",
     "text": [
      "90.5025423358517\n"
     ]
    }
   ],
   "source": [
    "m = 12\n",
    "\n",
    "present_value_monthly_compounding=CF/(1+rate/m)**(m*t)\n",
    "print(present_value_monthly_compounding)\n",
    "\n",
    "#_#Computing present value with monthly compounding using same CF, r, t.\n"
   ]
  },
  {
   "cell_type": "markdown",
   "metadata": {
    "deletable": false,
    "editable": false
   },
   "source": [
    "<div class = \"panel panel-primary\">\n",
    "    <div class = \"panel-heading\"> \n",
    "    <span style=\"color:white\"><b>Task 3</b>\n",
    "    </div>\n",
    "    <div class = \"panel-body\"> \n",
    "    Calculate the cashflow's present value under daily compounding.\n",
    "    <br><br>Answer the following questions:\n",
    "    <ul>\n",
    "        <li>What happens to the present value as we increase the compounding frequency? Why?</li>\n",
    "        <li>What will happen if we increase the compounding frequency to infinity (or some extremely large number)?</li>\n",
    "    </ul>\n",
    "    <p style=\"text-align:right;\">[15pts]</p>\n",
    "    </div>\n",
    "</div>"
   ]
  },
  {
   "cell_type": "code",
   "execution_count": 4,
   "metadata": {},
   "outputs": [
    {
     "name": "stdout",
     "output_type": "stream",
     "text": [
      "90.4843615007843\n"
     ]
    }
   ],
   "source": [
    "m_daily = 365\n",
    "\n",
    "present_value_daily_compounding=CF/(1+rate/m_daily)**(m_daily*t)\n",
    "print(present_value_daily_compounding)\n",
    "\n",
    "#_#Computing present value with daily compounding using same CF, r, t. Created m_daily for daily compounding\n"
   ]
  },
  {
   "cell_type": "markdown",
   "metadata": {},
   "source": [
    "*Your written response here*\n",
    "\n",
    "-As we increase the compounding frequency the present value goes down. This is because the amount of \"interest on interest\"increases as we compound more frequently.\n",
    "\n",
    "-If we increase the compoudning frequency to infinity it will continue to get smaller but the amount at which the present value decreases will decrease."
   ]
  },
  {
   "cell_type": "markdown",
   "metadata": {
    "deletable": false,
    "editable": false
   },
   "source": [
    "<div class = \"panel panel-primary\">\n",
    "    <div class = \"panel-heading\"> \n",
    "    <span style=\"color:white\"><b>Task 4</b>\n",
    "    </div>\n",
    "    <div class = \"panel-body\"> \n",
    "    Recall the formula for calculating present value under continuous compounding:\n",
    "    <br><br>\n",
    "    $$PV = CF * e^{-rt}$$\n",
    "    <br>Using the same inputs thus far, calculate the cashflow's present value under continuous compounding.\n",
    "    <p style=\"text-align:right;\">[15pts]</p>\n",
    "    </div>\n",
    "</div>"
   ]
  },
  {
   "cell_type": "code",
   "execution_count": 5,
   "metadata": {},
   "outputs": [],
   "source": [
    "import numpy as np\n",
    "\n",
    "#_#numpy contains external data such as exp, and Sqrt."
   ]
  },
  {
   "cell_type": "code",
   "execution_count": 6,
   "metadata": {},
   "outputs": [
    {
     "name": "stdout",
     "output_type": "stream",
     "text": [
      "0.9048374180359595\n"
     ]
    }
   ],
   "source": [
    "e_value=np.exp(-rate*t)\n",
    "print(e_value)\n",
    "\n",
    "#_#Computing present value with continious compounding using same CF, r, t."
   ]
  },
  {
   "cell_type": "code",
   "execution_count": 7,
   "metadata": {},
   "outputs": [
    {
     "name": "stdout",
     "output_type": "stream",
     "text": [
      "90.48374180359595\n"
     ]
    }
   ],
   "source": [
    "present_value_continuously_compounded=CF*e_value\n",
    "print(present_value_continuously_compounded)\n",
    "\n",
    "#_#Multiplying continuously compounded PV by the cashflow"
   ]
  },
  {
   "cell_type": "markdown",
   "metadata": {
    "deletable": false,
    "editable": false
   },
   "source": [
    "<div class = \"panel panel-primary\">\n",
    "    <div class = \"panel-heading\"> \n",
    "    <span style=\"color:white\"><b>Task 5</b>\n",
    "    </div>\n",
    "    <div class = \"panel-body\"> \n",
    "    Recall that the net present value of a stream of cashflows is simply the sum of the present values of each individual cashflow:\n",
    "    <br><br>\n",
    "    $$NPV = \\sum_{t}PV(CF_t)$$\n",
    "    <br>Calculate the net present value for the following cashflows at years 1, 2, and 5 of \\$100, \\$110, and \\$200, respectively. Assume annual compounding at a rate of 2%.\n",
    "    <p style=\"text-align:right;\">[15pts]</p>\n",
    "    </div>\n",
    "</div>"
   ]
  },
  {
   "cell_type": "code",
   "execution_count": 8,
   "metadata": {},
   "outputs": [],
   "source": [
    "CF_1 = 100\n",
    "CF_2 = 110\n",
    "CF_3 = 200\n",
    "\n",
    "t1 = 1\n",
    "t2 = 2\n",
    "t3 = 5\n",
    "\n",
    "#_#three cashflows at t(1,2,5) are defined"
   ]
  },
  {
   "cell_type": "code",
   "execution_count": 9,
   "metadata": {},
   "outputs": [
    {
     "name": "stdout",
     "output_type": "stream",
     "text": [
      "95.23809523809524\n",
      "99.77324263038548\n",
      "156.70523329369178\n"
     ]
    }
   ],
   "source": [
    "PV_1 = (CF_1)/(1+rate)**t1\n",
    "PV_2 = (CF_2)/(1+rate)**t2\n",
    "PV_3 = (CF_3)/(1+rate)**t3\n",
    "\n",
    "print(PV_1)\n",
    "print(PV_2)\n",
    "print(PV_3)\n",
    "\n",
    "#_#finding PV of each cashflow"
   ]
  },
  {
   "cell_type": "code",
   "execution_count": 10,
   "metadata": {},
   "outputs": [
    {
     "name": "stdout",
     "output_type": "stream",
     "text": [
      "351.7165711621725\n"
     ]
    }
   ],
   "source": [
    "PV_list = [PV_1,PV_2,PV_3]\n",
    "\n",
    "net_present_value = np.sum(PV_list)\n",
    "print(net_present_value)\n",
    "\n",
    "#_#computing the sum of the present values"
   ]
  },
  {
   "cell_type": "markdown",
   "metadata": {
    "deletable": false,
    "editable": false
   },
   "source": [
    "<div class = \"panel panel-primary\">\n",
    "    <div class = \"panel-heading\"> \n",
    "    <span style=\"color:white\"><b>Task 6</b>\n",
    "    </div>\n",
    "    <div class = \"panel-body\"> \n",
    "    The price of a risk-free coupon bearing bond is simply the NPV of its future generated cashflow stream. But given the consistent periodic coupon payments, we can treat the coupons as an annuity and simplify the NPV formula: \n",
    "    <br><br>\n",
    "    $$B = F \\left(\\frac{c}{m}\\right)\\frac{1 - \\left(1 + \\frac{r}{m}\\right)^{-mT}}{\\frac{r}{m}}  + F(1 + r)^{-T}$$\n",
    "    <br>Where $B$ is the bond price, $F$ is the face amount, $m$ is the coupon payment frequency, $T$ is the maturity, and interest rate $r$.\n",
    "    <br><br>Apply this formula to calculate the price of a bond with \\$1000 face value, maturing in 30 years, paying a semi-annual coupon of 4.5%, assuming a constant risk-free interest rate of 2%.\n",
    "    <br><br>Answer the following questions: \n",
    "    <ul>\n",
    "        <li>Is this a premium or a discount bond?</li>\n",
    "        <li>What might cause this bond to trade at a market price that is different from this calculated price?</li>\n",
    "    </ul>\n",
    "    <p style=\"text-align:right;\">[20pts]</p>\n",
    "    </div>\n",
    "</div>"
   ]
  },
  {
   "cell_type": "code",
   "execution_count": 11,
   "metadata": {},
   "outputs": [
    {
     "name": "stdout",
     "output_type": "stream",
     "text": [
      "1563.5592531199522\n"
     ]
    }
   ],
   "source": [
    "face_value = 1000\n",
    "t = 30 \n",
    "m = 2\n",
    "rf = .02\n",
    "coupon = .045\n",
    "\n",
    "bond_price = face_value*(coupon/m)*((1-(1+rf/m)**(-m*t))/(rf/m))+face_value*(1+rf)**(-t)\n",
    "print(bond_price)\n",
    "\n",
    "#_#Here we set the numbers in the task to a variable and set the bond price to the given equation with our assigned variables and printed the bond price.\n"
   ]
  },
  {
   "cell_type": "markdown",
   "metadata": {},
   "source": [
    "*Your written response here*\n",
    "-This is a premium bond\n",
    "\n",
    "-The rates could cause the bond price to change. If the risk-free rate were to be above the coupon rate the bond would have been a discount bond\n",
    "\n"
   ]
  },
  {
   "cell_type": "markdown",
   "metadata": {
    "deletable": false,
    "editable": false
   },
   "source": [
    "<div class = \"panel panel-primary\">\n",
    "    <div class = \"panel-heading\"> \n",
    "    <span style=\"color:white\"><b>Task 7</b>\n",
    "    </div>\n",
    "    <div class = \"panel-body\"> \n",
    "    Recall that the dividend discount model is a stock valuation model that attempts to value a stock as if it was a bond, based on its dividends. It assumes that a company will continue to pay its dividend uninterrupted in perpituity, and that the stock price is simply the sum of all of its future dividend payments, discounted back to their present value:\n",
    "    <br><br>\n",
    "    $$P = \\frac{D_1}{r - g}$$\n",
    "    <br>Where $P$ is the stock price, $D$ is the company's annual dividend payment in the next year, and $r$ is the company's cost of capital, and $g$ is the expected dividend growth rate.\n",
    "    <br><br>As of June 2020, AAPL paid an annual dividend \\$3.28 with a most recent dividend growth rate of 6.49%, and an estimated cost of capital of 9%. According to the dividend discount model, what is the value of AAPL stock?\n",
    "    <br><br>How does that compare with the market price of AAPL ($364.8 as of June 2020). What are some shortcomings of the dividend discount model? How would the dividend discount model value TSLA?\n",
    "    <p style=\"text-align:right;\">[20pts]</p>\n",
    "    </div>\n",
    "</div>"
   ]
  },
  {
   "cell_type": "code",
   "execution_count": 12,
   "metadata": {},
   "outputs": [
    {
     "name": "stdout",
     "output_type": "stream",
     "text": [
      "3.4928719999999998\n"
     ]
    }
   ],
   "source": [
    "dividend_0 = 3.28\n",
    "div_growth = .0649\n",
    "\n",
    "dividend_1 = dividend_0*(1+div_growth)\n",
    "print(dividend_1)\n",
    "\n",
    "#_#we had to use dividend 0 to calculate dividend 1 by using the growth rate"
   ]
  },
  {
   "cell_type": "code",
   "execution_count": 13,
   "metadata": {},
   "outputs": [
    {
     "name": "stdout",
     "output_type": "stream",
     "text": [
      "139.1582470119522\n"
     ]
    }
   ],
   "source": [
    "est_capital = .09\n",
    "\n",
    "stock_price = dividend_1/(est_capital-div_growth)\n",
    "\n",
    "print(stock_price)\n",
    "\n",
    "#_#set stock price = to the given formula using our variables\n"
   ]
  },
  {
   "cell_type": "markdown",
   "metadata": {},
   "source": [
    "*Your written response here*\n",
    "139.16 is much lower than the market price of AAPl as of June 2020. \n",
    "\n",
    "Some shortcomings of this model is the limited number of variables it takes into account. (e.g. It could be better by taking the market volatility into account)\n",
    "\n",
    "This model would value TSLA much higher than it will actually be a few years from now. TSLA cannot continue to rise at this rate and therefore this model would incorrectly value TSLA.\n"
   ]
  }
 ],
 "metadata": {
  "kernelspec": {
   "display_name": "Python 3",
   "language": "python",
   "name": "python3"
  },
  "language_info": {
   "codemirror_mode": {
    "name": "ipython",
    "version": 3
   },
   "file_extension": ".py",
   "mimetype": "text/x-python",
   "name": "python",
   "nbconvert_exporter": "python",
   "pygments_lexer": "ipython3",
   "version": "3.8.3"
  }
 },
 "nbformat": 4,
 "nbformat_minor": 2
}
